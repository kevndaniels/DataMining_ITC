{
 "cells": [
  {
   "cell_type": "code",
   "execution_count": 6,
   "metadata": {},
   "outputs": [],
   "source": [
    "import os\n",
    "import random\n",
    "import pandas as pd\n",
    "from selenium import webdriver\n",
    "from selenium.webdriver.chrome.options import Options\n",
    "\n",
    "chrome_options = Options()\n",
    "chrome_options.add_experimental_option('excludeSwitches', ['enable-logging'])\n",
    "chrome_options.add_argument(\"--disable-gpu\")\n",
    "chrome_options.add_argument(\"--headless\")\n",
    "chrome_options.add_argument(\"--no-sandbox\")\n",
    "chrome_options.add_argument('start-maximized')\n",
    "chrome_options.add_argument('disable-infobars')\n",
    "chrome_options.add_argument(\"--disable-extensions\")\n",
    "chrome_options.headless = True\n",
    "# constant\n",
    "URL = 'https://www.tradingview.com/markets/stocks-usa/market-movers-large-cap/'\n",
    "URL_SECTOR = 'https://www.tradingview.com/markets/stocks-usa/sectorandindustry-sector/'\n",
    "URL_INDUSTRY = 'https://www.tradingview.com/markets/stocks-usa/sectorandindustry-industry/'\n",
    "driver = webdriver.Chrome(os.path.join(os.getcwd(), 'DataMining/DataMining/chromedriver'), options=chrome_options)\n",
    "STOCK = 0\n",
    "SECTOR = 1\n",
    "ARG_NAME = 0\n",
    "ARG_OPTION = 1\n",
    "REQUIRED_NUM_OF_ARGS = 3\n",
    "DELAY = random.randint(1, 5)\n",
    "MYSQL_USERNAME = 'root'\n"
   ]
  },
  {
   "cell_type": "code",
   "execution_count": 102,
   "metadata": {},
   "outputs": [
    {
     "name": "stdout",
     "output_type": "stream",
     "text": [
      "['APPLE_INC', 'MICROSOFT_CORP.', 'AMAZON_COM_INC', 'ALPHABET_INC_(GOOGLE)_CLASS_A', 'ALPHABET_INC_(GOOGLE)_CLASS_C', 'FACEBOOK_INC', 'ALIBABA_GROUP_HOLDINGS_LTD._DR', 'BERKSHIRE_HATHAWAY_INC', 'BERKSHIRE_HATHAWAY_INC', 'VISA_INC', 'JOHNSON_&_JOHNSON', 'WALMART_INC', 'TAIWAN_SEMICONDUCTOR_MANUFACTURING_SPON_ADS_EACH_REP_5_ORD_TWD10', 'PROCTER_&_GAMBLE_CO', 'MASTERCARD_INCORPORATED', 'JPMORGAN_CHASE_&_CO.', 'UNITEDHEALTH_GROUP_INC', 'HOME_DEPOT_INC', 'TESLA_INC', 'NVIDIA_CORP', 'INTEL_CORP', 'VERIZON_COMMUNICATIONS', 'NETFLIX_INC', 'ADOBE_INC', 'AT&T_INC', 'PAYPAL_HOLDINGS_INC', 'WALT_DISNEY_COMPANY_(THE)', 'BANK_OF_AMERICA_CORPORATION', 'NOVARTIS_AG_ADR-EACH_REPR_1_CHF0.5(REGD)_DR', 'MERCK_&_CO_INC', 'COCA-COLA_CO', 'CISCO_SYSTEMS_INC', 'PFIZER_INC', 'PEPSICO_INC', 'EXXON_MOBIL_CORPORATION', 'COMCAST_CORP', 'SALESFORCE.COM_INC', 'ABBVIE_INC', 'ORACLE_CORP', 'TOYOTA_MOTOR_CORP_ADR-EACH_REP_2_ORD_NPV_LVLIII(SPON)', 'SAP_SE_SPON_ADR_EACH_REP_1_ORD_NPV_DR', 'ABBOTT_LABORATORIES', 'ELI_LILLY_AND_COMPANY', 'CHEVRON_CORPORATION', 'ASML_HOLDING_NV_EUR0.09_NY_REGISTRY_SHS_2012', 'NIKE_INC', 'THERMO_FISHER_SCIENTIFIC_INC', 'AMGEN_INC', 'CHINA_MOBILE_LTD_SPON_ADR_REP_5_ORD_HKD0.10', 'ASTRAZENECA_SPON_ADR_EACH_REP_0.50_ORD_SHS', 'COSTCO_WHOLESALE_CORP', 'ACCENTURE_PLC', \"MCDONALD'S_CORPORATION\", 'BRISTOL-MYERS_SQUIBB_CO', 'T-MOBILE_US_INC', 'DANAHER_CORP', 'SANOFI_SPON_ADR_ECH_REP_0.5_ORD_SHS_DR', 'BROADCOM_INC', 'NEXTERA_ENERGY_INC', 'CHARTER_COMMUNICATIONS_INC', 'MEDTRONIC_PLC', 'SHOPIFY_INC', 'TEXAS_INSTRUMENTS_INC', 'AMERICAN_TOWER_CORP_ETF', \"NOVO_NORDISK_A/S_ADR-EACH_CNV_INTO_1_CLASS'B'DKK1\", 'LINDE_PLC', 'UNION_PACIFIC_CORP', 'PHILIP_MORRIS_INTERNATIONAL_INC', 'CITIGROUP_INC', 'QUALCOMM_INC', 'INTERNATIONAL_BUS_MACH_CORP', \"LOWE'S_COMPANIES_INC\", 'HONEYWELL_INTERNATIONAL_INC', 'BOEING_CO', \"HSBC_HOLDINGS_PLC_ADR_EACH_REPR_1/40_PREF_SERIES_'A'\", 'WELLS_FARGO_&_COMPANY', 'GLAXOSMITHKLINE_ADR_EACH_CNV_INTO_2_ORD_GBP0.25', 'HSBC_HOLDINGS_PLC_ADR_EACH_REPR_5_ORD_USD0.50', 'TOTAL_SA_SPON_ADS_EA_REP_1_ORD_SHS_DR', 'UNITED_PARCEL_SERVICE_INC', 'LOCKHEED_MARTIN_CORP', 'ROYAL_BANK_OF_CANADA', 'GILEAD_SCIENCES_INC', 'BRITISH_AMERICAN_TOBACCO_SPON_ADS_EACH_REP_1_ORD_LVL_II', '3M_COMPANY', 'HDFC_BANK_LTD_SPON_ADS_EACH_REP_3_ORD_SHS_DR', 'STARBUCKS_CORP', 'BLACKROCK_INC', 'ANHEUSER-BUSCH_INBEV_SA/NV_ADR_EAH_REP_1_ORD_NPV', 'S&P_GLOBAL_INC', 'FIDELITY_NATL_INFORMATION_SERVICES', 'SONY_CORP_SPON_ADR_EACH_REPR_1_ORD_DR', 'CVS_HEALTH_CORPORATION', 'SERVICENOW_INC', 'INTUIT_INC', 'JD.COM_INC_SPON_ADS_EACH_REPR_2_ORD_SHS_CLASS_A', 'TORONTO-DOMINION_BANK', 'DIAGEO_ADR_EA_REPR_4_ORD_GBX28.935185_DR', 'UNILEVER_NV_EUR0.16(NEW_YORK_SHARES)_DR', 'BP_SPON_ADR_EACH_REP_6_ORD_SHS_DR']\n"
     ]
    }
   ],
   "source": [
    "\n",
    "URL = 'https://www.tradingview.com/markets/stocks-usa/market-movers-large-cap/'\n",
    "\n",
    "driver.get(URL)\n",
    "\n",
    "# getting top stocks concise info\n",
    "stock = []\n",
    "name = []\n",
    "info = []\n",
    "data = []\n",
    "stocks = driver.find_elements_by_class_name('tv-data-table__tbody')\n",
    "data_list = [i.text for i in stocks][0].split('\\n')\n",
    "data_len = len(data_list)\n",
    "for i in range(0, data_len-2, 3):\n",
    "    stock.append(data_list[i])\n",
    "    name.append('_'.join(data_list[i+1].split()))\n",
    "    info.append(data_list[i+2].replace('Strong Buy', 'Strong_Buy').replace('Strong Sell', 'Strong_Sell'))\n",
    "    if info[-1].split()[-1] not in ['Finance', 'Communications', 'Transportation', 'Utilities']:\n",
    "        data.append(info[-1].split()[:-2])\n",
    "        data[-1].insert(len(data[-1]), '_'.join(info[-1].split()[-2:]))    \n",
    "    else:\n",
    "        data.append(info[-1].split())\n",
    "print(name)"
   ]
  },
  {
   "cell_type": "code",
   "execution_count": null,
   "metadata": {},
   "outputs": [],
   "source": [
    "print()"
   ]
  },
  {
   "cell_type": "code",
   "execution_count": null,
   "metadata": {},
   "outputs": [],
   "source": []
  }
 ],
 "metadata": {
  "kernelspec": {
   "display_name": "Python 3",
   "language": "python",
   "name": "python3"
  },
  "language_info": {
   "codemirror_mode": {
    "name": "ipython",
    "version": 3
   },
   "file_extension": ".py",
   "mimetype": "text/x-python",
   "name": "python",
   "nbconvert_exporter": "python",
   "pygments_lexer": "ipython3",
   "version": "3.6.9"
  }
 },
 "nbformat": 4,
 "nbformat_minor": 4
}
